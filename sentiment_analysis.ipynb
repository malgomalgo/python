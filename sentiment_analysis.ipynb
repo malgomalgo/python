{
 "cells": [
  {
   "cell_type": "markdown",
   "id": "513b0015",
   "metadata": {},
   "source": [
    "# <font color=forestgreen><center><b>BINARY SENTIMENT ANALYSIS</b></center></font><br><br>\n",
    "\n",
    "## <font color=olivedrab>Table of contents:</font><br>\n",
    "- [Sentiment analysis](##Sentiment-analysis)\n",
    "- [Text pre-processing](##Text%pre-processing)\n",
    " * [Removing HTML tags and URLs](###Removing-HTML-tags-and-URLs)\n",
    " * [Tokenization](###Tokenization)\n",
    " * [Removing stop words](###Removing-stop-words)\n",
    " * [Removing numbers](###Removing-numbers)\n",
    " * [Lemmatization/Stemming](###Lemmatization/Stemming)\n",
    " * [Sentiment Intensity Analyzer](###Sentiment-Intensity-Analyzer)\n",
    " * [Frequency distribution](###Frequency-distribution)\n",
    "- [Conclusion](##Conclusion)\n",
    "- [Sources](##Sources)\n",
    "<br><br>\n",
    "\n",
    "\n",
    "\n",
    "\n",
    "<center><img src=\"https://image.slidesharecdn.com/luccasummerschooltextmininghandouts-121112082043-phpapp02/95/text-and-text-stream-mining-tutorial-8-638.jpg?cb=1352708688\" style=\"border: 1px solid green;\"></center><br><br>\n",
    "\n",
    "## <center><font color=seagreen>Sentiment analysis</font></center><br>\n",
    "\n",
    "   It is believed that the process of classification constitutes the core of human and artificial intelligence and is considered essential when it comes to tasks that concern processing linguistic data. With such an expansion of social media and users’ input into the Web, it is possible to make use of a massive amount of unstructured data. Thanks to the constantly developing technology, we can extract the most significant information contained in the text. The phenomena of computational study of people’s opinions towards products or services is known under the name of sentiment analysis or opinion mining. \n",
    "\n",
    "The positive and useful results of this operation are indubitable. With such information, companies are able to better understand a client’s attitude and, as a result, to plan upgraded strategies in order to meet the expectations. Not only can the businesses monitor the opinion, but also they might control what kind of information a potential client will acknowledge.  \n",
    "\n",
    "However, the task of sentiment analysis is fairly challenging as there are various issues concerning both technical and semantic aspects. The simplest method of analysing the sentiment is a binary classification task in which classes are positive and negative, however we must realise that human thoughts are structured and more complex, thus while classifying <extended> utterances, this method will hardly reflect a full image of an actual sentiment. Moreover, it is possible that the classifiers’ actions might result in representational harms caused by replicated biases in training data, prejudicially applied labels, partial data resources or by the algorithm itself. <a href=\"https://web.stanford.edu/~jurafsky/slp3/old_oct19/4.pdf\">(Jurafsky, D., Martin, J. H.)</a> As for technicalities of automated opinion mining, irony, sarcasm and the context are very difficult to be taken under consideration. What’s more, dealing with negation while analysing sentiments can cause various difficulties as we often need context to determine whether a phrase is negative or positive. "
   ]
  },
  {
   "cell_type": "markdown",
   "id": "358bcae6",
   "metadata": {},
   "source": [
    "## <center><font color=seagreen>Text pre-processing</font></center><br>"
   ]
  },
  {
   "cell_type": "code",
   "execution_count": 30,
   "id": "9978cb9e",
   "metadata": {},
   "outputs": [],
   "source": [
    "url = \"https://www.gutenberg.org/files/2527/2527-h/2527-h.htm\""
   ]
  },
  {
   "cell_type": "markdown",
   "id": "e3f29f15",
   "metadata": {},
   "source": [
    "To establish the value of sentiment in a given text, pre-processing of the text is required. It is essential to remove all the redundant element from the text as they might have the negative impact on the result. This operation includes:\n",
    " - removing HTML tags\n",
    " - tagging\n",
    " - parsing\n",
    " - lemmatization \n",
    " - removing numbers\n",
    " -  removing extraspaces \n",
    " \n",
    " \n",
    "It is possible to execute additional cleaning operations in order to achieve the highest quality of data to process.\n",
    "\n",
    "### tokenization"
   ]
  },
  {
   "cell_type": "code",
   "execution_count": 31,
   "id": "32cbf830",
   "metadata": {},
   "outputs": [],
   "source": [
    "import requests\n",
    "book = requests.get(url)"
   ]
  },
  {
   "cell_type": "code",
   "execution_count": 48,
   "id": "239976a3",
   "metadata": {},
   "outputs": [],
   "source": [
    "html = book.text\n",
    "#print(html)"
   ]
  },
  {
   "cell_type": "markdown",
   "id": "799c05b3",
   "metadata": {},
   "source": [
    "One of the most common tools used to creating programs for natural language analysis is Python with its' built-in NLTK library:\n",
    "\"<i>It provides easy-to-use interfaces to over 50 corpora and lexical resources such as WordNet, along with a suite of text processing libraries for classification, tokenization, stemming, tagging, parsing, and semantic reasoning, wrappers for industrial-strength NLP libraries</i>\". <a href=\"https://www.nltk.org/\">(NLTK 3.6.2 Documentation)</a>\n",
    "<br><br>\n",
    "In this essay, we will use several libraries of NLTK. Firstly, we are going to use BeautifulSoup which is a package for parsing HTML documents. It is an essential first step while cleaning the text downloaded from a website.\n",
    "<br><br>\n",
    "### <center><font color=darkseagreen>Removing HTML tags and URLs</font></center><br>"
   ]
  },
  {
   "cell_type": "code",
   "execution_count": 49,
   "id": "177a180c",
   "metadata": {},
   "outputs": [],
   "source": [
    "from bs4 import BeautifulSoup\n",
    "soup = BeautifulSoup(html, \"html.parser\")\n",
    "#print(soup)"
   ]
  },
  {
   "cell_type": "markdown",
   "id": "4cc9e94a",
   "metadata": {},
   "source": [
    "<br>\n",
    "HTML tags and URLs are strictly linked to the text obtained from any website. HTML tags will only determine the way in which a web browser will display the content and URLs, apart from location on the web, do not provide any valuable information. Since we focus on the meaningful words, it is necessary to remove all the tags and links from the text by writing a regular expression which should match all words and strings starting with \"http\".\n",
    "<br><br>"
   ]
  },
  {
   "cell_type": "code",
   "execution_count": 50,
   "id": "1e6cc120",
   "metadata": {},
   "outputs": [],
   "source": [
    "stripped_text = soup.get_text(separator=\" \")\n",
    "#print(stripped_text)"
   ]
  },
  {
   "cell_type": "code",
   "execution_count": 51,
   "id": "4c4e218b",
   "metadata": {},
   "outputs": [],
   "source": [
    "import re\n",
    "\n",
    "def remove_url(text_data):\n",
    "    return re.sub(r\"http\\S+\", \"\", text_data)\n",
    "\n",
    "processed_text = remove_url(stripped_text)"
   ]
  },
  {
   "cell_type": "markdown",
   "id": "ac2d441e",
   "metadata": {},
   "source": [
    "### <center><font color=darkseagreen>Tokenization</font></center><br>\n",
    "Next essential step in pre-proccesing text for NLP purposes is tokenization. It’s a process during which a text is splitted into single units (words,numbers,punctuation marks), called tokens. These units are created by establishing and extracting the content from between the word boundaries.\n",
    "<br><br>\n",
    "This step allows us to count the amount of particular tokens or number of words in the text. Furthermore, it is possible to count the frequency of words and tokens.\n",
    "<br><br>"
   ]
  },
  {
   "cell_type": "code",
   "execution_count": 52,
   "id": "48659370",
   "metadata": {},
   "outputs": [],
   "source": [
    "from nltk.tokenize import RegexpTokenizer\n",
    "tokenizer = RegexpTokenizer('\\w+')\n",
    "tokens = tokenizer.tokenize(processed_text)"
   ]
  },
  {
   "cell_type": "markdown",
   "id": "2d315971",
   "metadata": {},
   "source": [
    "Because the elements of a stop_word list are stored in the lower case, it is important to convert the text before elimination of redundant words."
   ]
  },
  {
   "cell_type": "code",
   "execution_count": 53,
   "id": "d7c00e4a",
   "metadata": {},
   "outputs": [],
   "source": [
    "tokens = [token.lower() for token in tokens]"
   ]
  },
  {
   "cell_type": "markdown",
   "id": "938cb38d",
   "metadata": {},
   "source": [
    "### <center><font color=darkseagreen>Removing stop words</font></center><br>\n",
    "Other words that do not add much information to the text are stop words. These are the most common words in the text (articles, pronouns, prepositions, etc.) and can be noticed as words with the highest frequency in the corpora. NLTK provides us with a list of stopwords in 16 different languages.<br><br>\n",
    "\n",
    "However, even if it seems that the removal of stop words will enhance the valuable processing time, some researchers head towards a different approach. According to them, each word may be considered a stop word, depending on the research question: \"<i>Problems like sentiment analysis are much more sensitive to stop words removal than document classification.</i>\" <a href=\"https://medium.com/@limavallantin/why-is-removing-stop-words-not-always-a-good-idea-c8d35bd77214\">(Vallantin, L.)</a> e.g. With 'not' removed, the meaning of the resulting sentence will be completely opposite to the reality. <br><br>"
   ]
  },
  {
   "cell_type": "code",
   "execution_count": 54,
   "id": "117a9404",
   "metadata": {},
   "outputs": [
    {
     "name": "stdout",
     "output_type": "stream",
     "text": [
      "['i', 'me', 'my', 'myself', 'we', 'our', 'ours', 'ourselves', 'you', \"you're\", \"you've\", \"you'll\", \"you'd\", 'your', 'yours', 'yourself', 'yourselves', 'he', 'him', 'his', 'himself', 'she', \"she's\", 'her', 'hers', 'herself', 'it', \"it's\", 'its', 'itself', 'they', 'them', 'their', 'theirs', 'themselves', 'what', 'which', 'who', 'whom', 'this', 'that', \"that'll\", 'these', 'those', 'am', 'is', 'are', 'was', 'were', 'be', 'been', 'being', 'have', 'has', 'had', 'having', 'do', 'does', 'did', 'doing', 'a', 'an', 'the', 'and', 'but', 'if', 'or', 'because', 'as', 'until', 'while', 'of', 'at', 'by', 'for', 'with', 'about', 'against', 'between', 'into', 'through', 'during', 'before', 'after', 'above', 'below', 'to', 'from', 'up', 'down', 'in', 'out', 'on', 'off', 'over', 'under', 'again', 'further', 'then', 'once', 'here', 'there', 'when', 'where', 'why', 'how', 'all', 'any', 'both', 'each', 'few', 'more', 'most', 'other', 'some', 'such', 'no', 'nor', 'not', 'only', 'own', 'same', 'so', 'than', 'too', 'very', 's', 't', 'can', 'will', 'just', 'don', \"don't\", 'should', \"should've\", 'now', 'd', 'll', 'm', 'o', 're', 've', 'y', 'ain', 'aren', \"aren't\", 'couldn', \"couldn't\", 'didn', \"didn't\", 'doesn', \"doesn't\", 'hadn', \"hadn't\", 'hasn', \"hasn't\", 'haven', \"haven't\", 'isn', \"isn't\", 'ma', 'mightn', \"mightn't\", 'mustn', \"mustn't\", 'needn', \"needn't\", 'shan', \"shan't\", 'shouldn', \"shouldn't\", 'wasn', \"wasn't\", 'weren', \"weren't\", 'won', \"won't\", 'wouldn', \"wouldn't\"]\n"
     ]
    }
   ],
   "source": [
    "import nltk\n",
    "stop_words = nltk.corpus.stopwords.words('english')\n",
    "print(stop_words)"
   ]
  },
  {
   "cell_type": "markdown",
   "id": "6adf1ffd",
   "metadata": {},
   "source": [
    " "
   ]
  },
  {
   "cell_type": "code",
   "execution_count": 55,
   "id": "db3e7c4f",
   "metadata": {},
   "outputs": [],
   "source": [
    "words_stop = []\n",
    "for word in tokens:\n",
    "    if word not in stop_words:\n",
    "        words_stop.append(word)\n",
    "        \n",
    "#print(words_stop)"
   ]
  },
  {
   "cell_type": "markdown",
   "id": "8424c4b1",
   "metadata": {},
   "source": [
    "<br>\n",
    "Relying on already existing resources not only facilitate the process of cleaning the data, but also lead to universal results. However, it might appear that some of them are inexhaustive, e.g. this stopword list does not contain popular and meaningless words such as \"one\" and \"also\", which affected the frequency distribution.\n",
    "<br><br>\n",
    "\n",
    "### <center><font color=darkseagreen>Removing numbers</font></center><br>\n",
    "The next step towards making the data useful consists in removing non-alphanumeric characters from the text. "
   ]
  },
  {
   "cell_type": "code",
   "execution_count": 56,
   "id": "865ce0aa",
   "metadata": {
    "scrolled": true
   },
   "outputs": [],
   "source": [
    "words_final = [word for word in words_stop if word.isalpha()]\n",
    "for word in words_stop:\n",
    "        words_final.append(word)\n",
    "        \n",
    "#print(words_final)"
   ]
  },
  {
   "cell_type": "markdown",
   "id": "c33810c8",
   "metadata": {},
   "source": [
    "### <center><font color=darkseagreen>Lemmatization/Stemming</font></center><br>\n",
    "For some reasearch purposes, it is necessary to reduce tokens to the simplest form so that occur only once under the shared lemma (root) or to the context in which they occur. The aim is to take away inflectional suffixes and prefixes to bring out the word's dictionary form. \"<i>Stemming uses the stem of the word while lemmatization, the context in which the word is being used</i>\". This operation is indispensable when we search not only for the exact query but also for the different forms of it.<br>"
   ]
  },
  {
   "cell_type": "code",
   "execution_count": 41,
   "id": "20e55a04",
   "metadata": {
    "scrolled": false
   },
   "outputs": [
    {
     "name": "stdout",
     "output_type": "stream",
     "text": [
      "Lemmatized Word: teach\n",
      "Stemmed Word: teach\n"
     ]
    }
   ],
   "source": [
    "from nltk.stem.wordnet import WordNetLemmatizer\n",
    "lem = WordNetLemmatizer()\n",
    "\n",
    "from nltk.stem.porter import PorterStemmer\n",
    "stem = PorterStemmer()\n",
    "\n",
    "word = \"teaching\"\n",
    "print(\"Lemmatized Word:\",lem.lemmatize(word,\"v\"))\n",
    "print(\"Stemmed Word:\",stem.stem(word))"
   ]
  },
  {
   "cell_type": "markdown",
   "id": "f09a5021",
   "metadata": {},
   "source": [
    "### <center><font color=darkseagreen>Sentiment Intensity Analyzer</font></center><br>\n",
    "After getting rid of the redundant components of the data, we are finally able to determine the emotional value. As previously mentionned, the values taken under the consideration are: positive, negative and neutral.\n",
    "We will perform our task with a NLTK tool called SentimentAnalyzer."
   ]
  },
  {
   "cell_type": "code",
   "execution_count": 57,
   "id": "b5ebbb5c",
   "metadata": {},
   "outputs": [],
   "source": [
    "def listToString(words_final): \n",
    "    str = \" \"  \n",
    "    return (str.join(words_final))\n",
    "        \n",
    "  \n",
    "#print(listToString(words_final)) \n",
    "\n",
    "list_to_text = listToString(words_final)"
   ]
  },
  {
   "cell_type": "code",
   "execution_count": 43,
   "id": "55df83bb",
   "metadata": {},
   "outputs": [
    {
     "data": {
      "text/plain": [
       "{'neg': 0.153, 'neu': 0.609, 'pos': 0.238, 'compound': 1.0}"
      ]
     },
     "execution_count": 43,
     "metadata": {},
     "output_type": "execute_result"
    }
   ],
   "source": [
    "from nltk.sentiment import SentimentIntensityAnalyzer\n",
    "\n",
    "score = SentimentIntensityAnalyzer()\n",
    "score.polarity_scores(list_to_text)\n"
   ]
  },
  {
   "cell_type": "code",
   "execution_count": 44,
   "id": "59fc6547",
   "metadata": {},
   "outputs": [
    {
     "data": {
      "image/png": "[encoded data removed]",
      "text/plain": [
       "<Figure size 432x288 with 1 Axes>"
      ]
     },
     "metadata": {},
     "output_type": "display_data"
    }
   ],
   "source": [
    "import matplotlib.pyplot as plt\n",
    "\n",
    "left = [0,1,2]\n",
    "hights = [0.153,0.609,0.238]\n",
    "plt.title(\"Sentimental value in the text\")\n",
    "plt.grid(True)\n",
    "plt.minorticks_on()\n",
    "plt.xticks([0,1,2], ['negative','neutral','positive'])\n",
    "plt.bar(left,hights,color=('olivedrab','yellowgreen','darkolivegreen'))\n",
    "plt.show()"
   ]
  },
  {
   "cell_type": "markdown",
   "id": "0cd181e6",
   "metadata": {},
   "source": [
    "### <center><font color=darkseagreen>Frequency distribution</font></center><br>\n",
    "Frequency distribution tells us the frequency of each item in the text, however we will mostly focus on pre-processed text and words that carry meaning. "
   ]
  },
  {
   "cell_type": "code",
   "execution_count": 45,
   "id": "b0b41179",
   "metadata": {},
   "outputs": [
    {
     "data": {
      "image/png": "[encoded data removed]",
      "text/plain": [
       "<Figure size 432x288 with 1 Axes>"
      ]
     },
     "metadata": {},
     "output_type": "display_data"
    },
    {
     "data": {
      "text/plain": [
       "<AxesSubplot:xlabel='Samples', ylabel='Counts'>"
      ]
     },
     "execution_count": 45,
     "metadata": {},
     "output_type": "execute_result"
    }
   ],
   "source": [
    "import matplotlib.pyplot as plt\n",
    "import seaborn as sns\n",
    "\n",
    "%matplotlib inline\n",
    "sns.set()\n",
    "\n",
    "freqdist1 = nltk.FreqDist(words_final)\n",
    "freqdist1.plot(25)"
   ]
  },
  {
   "cell_type": "markdown",
   "id": "9450a21d",
   "metadata": {},
   "source": [
    "## <font color=seagreen>Conclusion</font><br>\n",
    "Natural language processing is an interdisciplinary domain comprising linguistics and computer science. It seems impossible to excel the performance of artificial intelligence without translating human language into data comprehensible for machines. \n",
    "<br><br>\n",
    "A basic task of computational linguists is to determine whether the expressed opinion in a text is positive, negative or neutral. Despite persistently improved methods and algorithms, this task remains a significant challenge for researchers. Therefore, with mindfully cleaned data, the desired results can be obtained. \n"
   ]
  },
  {
   "cell_type": "markdown",
   "id": "b9986e09",
   "metadata": {},
   "source": [
    "## <font color=seagreen>Sources</font><br>\n",
    "1) Goethe, J. W., The Sorrows of Young Werther. https://www.gutenberg.org/files/2527/2527-h/2527-h.htm. Accessed 13 June 2021. <br>\n",
    "2) Jurafsky, D., Martin, J. H., Speech and Language Processing. https://web.stanford.edu/~jurafsky/slp3/old_oct19/4.pdf Accessed 13 June 2021 <br>\n",
    "3) Mgrcar. Text and Text Stream Mining Tutorial. https://www.slideshare.net/mgrcar/text-and-text-stream-mining-tutorial-15137759. Accessed 13 June 2021 <br>\n",
    "4) Natural Language Toolkit — NLTK 3.6.2 Documentation. https://www.nltk.org/. Accessed 13 June 2021. <br>\n",
    "5) Vallantin, L. “Why Is Removing Stop Words Not Always a Good Idea.” Medium, 15 June 2020, https://medium.com/@limavallantin/why-is-removing-stop-words-not-always-a-good-idea-c8d35bd77214. Accessed 13 June 2021<br>"
   ]
  },
  {
   "cell_type": "code",
   "execution_count": null,
   "id": "0b50c423",
   "metadata": {},
   "outputs": [],
   "source": []
  }
 ],
 "metadata": {
  "kernelspec": {
   "display_name": "Python 3",
   "language": "python",
   "name": "python3"
  },
  "language_info": {
   "codemirror_mode": {
    "name": "ipython",
    "version": 3
   },
   "file_extension": ".py",
   "mimetype": "text/x-python",
   "name": "python",
   "nbconvert_exporter": "python",
   "pygments_lexer": "ipython3",
   "version": "3.8.8"
  }
 },
 "nbformat": 4,
 "nbformat_minor": 5
}
